{
 "cells": [
  {
   "cell_type": "code",
   "execution_count": 1,
   "id": "4cb13422",
   "metadata": {},
   "outputs": [],
   "source": [
    "#Import relevant libraries\n",
    "import pandas as pd\n",
    "\n",
    "import numpy as np\n",
    "import matplotlib.pyplot as plt \n",
    "import seaborn as sns \n",
    "#from sklearn import metrics\n",
    "# plt.style.use('ggplot')\n",
    "# pd.set_option('display.max_columns', 200)\n",
    "from scipy.stats import zscore\n",
    "import os\n",
    "\n"
   ]
  },
  {
   "cell_type": "code",
   "execution_count": 2,
   "id": "1994ca47",
   "metadata": {},
   "outputs": [
    {
     "data": {
      "text/html": [
       "<div>\n",
       "<style scoped>\n",
       "    .dataframe tbody tr th:only-of-type {\n",
       "        vertical-align: middle;\n",
       "    }\n",
       "\n",
       "    .dataframe tbody tr th {\n",
       "        vertical-align: top;\n",
       "    }\n",
       "\n",
       "    .dataframe thead th {\n",
       "        text-align: right;\n",
       "    }\n",
       "</style>\n",
       "<table border=\"1\" class=\"dataframe\">\n",
       "  <thead>\n",
       "    <tr style=\"text-align: right;\">\n",
       "      <th></th>\n",
       "      <th>Timestamp</th>\n",
       "      <th>GHI</th>\n",
       "      <th>DNI</th>\n",
       "      <th>DHI</th>\n",
       "      <th>ModA</th>\n",
       "      <th>ModB</th>\n",
       "      <th>Tamb</th>\n",
       "      <th>RH</th>\n",
       "      <th>WS</th>\n",
       "      <th>WSgust</th>\n",
       "      <th>WSstdev</th>\n",
       "      <th>WD</th>\n",
       "      <th>WDstdev</th>\n",
       "      <th>BP</th>\n",
       "      <th>Cleaning</th>\n",
       "      <th>Precipitation</th>\n",
       "      <th>TModA</th>\n",
       "      <th>TModB</th>\n",
       "      <th>Comments</th>\n",
       "    </tr>\n",
       "  </thead>\n",
       "  <tbody>\n",
       "    <tr>\n",
       "      <th>0</th>\n",
       "      <td>2021-10-30 00:01</td>\n",
       "      <td>-0.7</td>\n",
       "      <td>-0.1</td>\n",
       "      <td>-0.8</td>\n",
       "      <td>0.0</td>\n",
       "      <td>0.0</td>\n",
       "      <td>21.9</td>\n",
       "      <td>99.1</td>\n",
       "      <td>0.0</td>\n",
       "      <td>0.0</td>\n",
       "      <td>0.0</td>\n",
       "      <td>0.0</td>\n",
       "      <td>0.0</td>\n",
       "      <td>1002</td>\n",
       "      <td>0</td>\n",
       "      <td>0.0</td>\n",
       "      <td>22.3</td>\n",
       "      <td>22.6</td>\n",
       "      <td>NaN</td>\n",
       "    </tr>\n",
       "    <tr>\n",
       "      <th>1</th>\n",
       "      <td>2021-10-30 00:02</td>\n",
       "      <td>-0.7</td>\n",
       "      <td>-0.1</td>\n",
       "      <td>-0.8</td>\n",
       "      <td>0.0</td>\n",
       "      <td>0.0</td>\n",
       "      <td>21.9</td>\n",
       "      <td>99.2</td>\n",
       "      <td>0.0</td>\n",
       "      <td>0.0</td>\n",
       "      <td>0.0</td>\n",
       "      <td>0.0</td>\n",
       "      <td>0.0</td>\n",
       "      <td>1002</td>\n",
       "      <td>0</td>\n",
       "      <td>0.0</td>\n",
       "      <td>22.3</td>\n",
       "      <td>22.6</td>\n",
       "      <td>NaN</td>\n",
       "    </tr>\n",
       "    <tr>\n",
       "      <th>2</th>\n",
       "      <td>2021-10-30 00:03</td>\n",
       "      <td>-0.7</td>\n",
       "      <td>-0.1</td>\n",
       "      <td>-0.8</td>\n",
       "      <td>0.0</td>\n",
       "      <td>0.0</td>\n",
       "      <td>21.9</td>\n",
       "      <td>99.2</td>\n",
       "      <td>0.0</td>\n",
       "      <td>0.0</td>\n",
       "      <td>0.0</td>\n",
       "      <td>0.0</td>\n",
       "      <td>0.0</td>\n",
       "      <td>1002</td>\n",
       "      <td>0</td>\n",
       "      <td>0.0</td>\n",
       "      <td>22.3</td>\n",
       "      <td>22.6</td>\n",
       "      <td>NaN</td>\n",
       "    </tr>\n",
       "    <tr>\n",
       "      <th>3</th>\n",
       "      <td>2021-10-30 00:04</td>\n",
       "      <td>-0.7</td>\n",
       "      <td>0.0</td>\n",
       "      <td>-0.8</td>\n",
       "      <td>0.0</td>\n",
       "      <td>0.0</td>\n",
       "      <td>21.9</td>\n",
       "      <td>99.3</td>\n",
       "      <td>0.0</td>\n",
       "      <td>0.0</td>\n",
       "      <td>0.0</td>\n",
       "      <td>0.0</td>\n",
       "      <td>0.0</td>\n",
       "      <td>1002</td>\n",
       "      <td>0</td>\n",
       "      <td>0.1</td>\n",
       "      <td>22.3</td>\n",
       "      <td>22.6</td>\n",
       "      <td>NaN</td>\n",
       "    </tr>\n",
       "    <tr>\n",
       "      <th>4</th>\n",
       "      <td>2021-10-30 00:05</td>\n",
       "      <td>-0.7</td>\n",
       "      <td>-0.1</td>\n",
       "      <td>-0.8</td>\n",
       "      <td>0.0</td>\n",
       "      <td>0.0</td>\n",
       "      <td>21.9</td>\n",
       "      <td>99.3</td>\n",
       "      <td>0.0</td>\n",
       "      <td>0.0</td>\n",
       "      <td>0.0</td>\n",
       "      <td>0.0</td>\n",
       "      <td>0.0</td>\n",
       "      <td>1002</td>\n",
       "      <td>0</td>\n",
       "      <td>0.0</td>\n",
       "      <td>22.3</td>\n",
       "      <td>22.6</td>\n",
       "      <td>NaN</td>\n",
       "    </tr>\n",
       "  </tbody>\n",
       "</table>\n",
       "</div>"
      ],
      "text/plain": [
       "          Timestamp  GHI  DNI  DHI  ModA  ModB  Tamb    RH   WS  WSgust  \\\n",
       "0  2021-10-30 00:01 -0.7 -0.1 -0.8   0.0   0.0  21.9  99.1  0.0     0.0   \n",
       "1  2021-10-30 00:02 -0.7 -0.1 -0.8   0.0   0.0  21.9  99.2  0.0     0.0   \n",
       "2  2021-10-30 00:03 -0.7 -0.1 -0.8   0.0   0.0  21.9  99.2  0.0     0.0   \n",
       "3  2021-10-30 00:04 -0.7  0.0 -0.8   0.0   0.0  21.9  99.3  0.0     0.0   \n",
       "4  2021-10-30 00:05 -0.7 -0.1 -0.8   0.0   0.0  21.9  99.3  0.0     0.0   \n",
       "\n",
       "   WSstdev   WD  WDstdev    BP  Cleaning  Precipitation  TModA  TModB  \\\n",
       "0      0.0  0.0      0.0  1002         0            0.0   22.3   22.6   \n",
       "1      0.0  0.0      0.0  1002         0            0.0   22.3   22.6   \n",
       "2      0.0  0.0      0.0  1002         0            0.0   22.3   22.6   \n",
       "3      0.0  0.0      0.0  1002         0            0.1   22.3   22.6   \n",
       "4      0.0  0.0      0.0  1002         0            0.0   22.3   22.6   \n",
       "\n",
       "   Comments  \n",
       "0       NaN  \n",
       "1       NaN  \n",
       "2       NaN  \n",
       "3       NaN  \n",
       "4       NaN  "
      ]
     },
     "execution_count": 2,
     "metadata": {},
     "output_type": "execute_result"
    }
   ],
   "source": [
    "df = pd.read_csv(\"../data/sierraleone-bumbuna.csv\")\n",
    "\n",
    "df.head()\n",
    "\n"
   ]
  },
  {
   "cell_type": "code",
   "execution_count": 3,
   "id": "3bdd7648",
   "metadata": {},
   "outputs": [
    {
     "data": {
      "text/plain": [
       "(232443, 19)"
      ]
     },
     "execution_count": 3,
     "metadata": {},
     "output_type": "execute_result"
    }
   ],
   "source": [
    "df.shape"
   ]
  },
  {
   "cell_type": "code",
   "execution_count": 4,
   "id": "26d8ae0e",
   "metadata": {},
   "outputs": [
    {
     "data": {
      "text/plain": [
       "Index(['Timestamp', 'GHI', 'DNI', 'DHI', 'ModA', 'ModB', 'Tamb', 'RH', 'WS',\n",
       "       'WSgust', 'WSstdev', 'WD', 'WDstdev', 'BP', 'Cleaning', 'Precipitation',\n",
       "       'TModA', 'TModB', 'Comments'],\n",
       "      dtype='object')"
      ]
     },
     "execution_count": 4,
     "metadata": {},
     "output_type": "execute_result"
    }
   ],
   "source": [
    "#columns in the dataset.\n",
    "df.columns"
   ]
  },
  {
   "cell_type": "code",
   "execution_count": 5,
   "id": "9b055e07",
   "metadata": {},
   "outputs": [
    {
     "data": {
      "text/plain": [
       "Timestamp         object\n",
       "GHI              float64\n",
       "DNI              float64\n",
       "DHI              float64\n",
       "ModA             float64\n",
       "ModB             float64\n",
       "Tamb             float64\n",
       "RH               float64\n",
       "WS               float64\n",
       "WSgust           float64\n",
       "WSstdev          float64\n",
       "WD               float64\n",
       "WDstdev          float64\n",
       "BP                 int64\n",
       "Cleaning           int64\n",
       "Precipitation    float64\n",
       "TModA            float64\n",
       "TModB            float64\n",
       "Comments         float64\n",
       "dtype: object"
      ]
     },
     "execution_count": 5,
     "metadata": {},
     "output_type": "execute_result"
    }
   ],
   "source": [
    "#  data types of columns.\n",
    "df.dtypes"
   ]
  },
  {
   "cell_type": "code",
   "execution_count": 6,
   "id": "4898028e",
   "metadata": {},
   "outputs": [
    {
     "data": {
      "text/plain": [
       "<bound method NDFrame.describe of                Timestamp  GHI  DNI  DHI  ModA  ModB  Tamb     RH   WS  WSgust  \\\n",
       "0       2021-10-30 00:01 -0.7 -0.1 -0.8   0.0   0.0  21.9   99.1  0.0     0.0   \n",
       "1       2021-10-30 00:02 -0.7 -0.1 -0.8   0.0   0.0  21.9   99.2  0.0     0.0   \n",
       "2       2021-10-30 00:03 -0.7 -0.1 -0.8   0.0   0.0  21.9   99.2  0.0     0.0   \n",
       "3       2021-10-30 00:04 -0.7  0.0 -0.8   0.0   0.0  21.9   99.3  0.0     0.0   \n",
       "4       2021-10-30 00:05 -0.7 -0.1 -0.8   0.0   0.0  21.9   99.3  0.0     0.0   \n",
       "...                  ...  ...  ...  ...   ...   ...   ...    ...  ...     ...   \n",
       "232438  2022-10-29 23:56 -1.6 -0.1 -2.9   0.0   0.0  24.0  100.0  0.0     0.0   \n",
       "232439  2022-10-29 23:57 -1.7 -0.1 -3.0   0.0   0.0  24.0  100.0  0.0     0.0   \n",
       "232440  2022-10-29 23:58 -1.7 -0.1 -3.1   0.0   0.0  24.0  100.0  0.0     0.0   \n",
       "232441  2022-10-29 23:59 -1.7 -0.2 -3.3   0.0   0.0  23.9  100.0  0.0     0.0   \n",
       "232442  2022-10-30 00:00 -1.7 -0.1 -3.4   0.0   0.0  23.9  100.0  0.0     0.0   \n",
       "\n",
       "        WSstdev   WD  WDstdev    BP  Cleaning  Precipitation  TModA  TModB  \\\n",
       "0           0.0  0.0      0.0  1002         0            0.0   22.3   22.6   \n",
       "1           0.0  0.0      0.0  1002         0            0.0   22.3   22.6   \n",
       "2           0.0  0.0      0.0  1002         0            0.0   22.3   22.6   \n",
       "3           0.0  0.0      0.0  1002         0            0.1   22.3   22.6   \n",
       "4           0.0  0.0      0.0  1002         0            0.0   22.3   22.6   \n",
       "...         ...  ...      ...   ...       ...            ...    ...    ...   \n",
       "232438      0.0  0.0      0.0   999         0            0.0   24.2   24.5   \n",
       "232439      0.0  0.0      0.0   999         0            0.0   24.2   24.5   \n",
       "232440      0.0  0.0      0.0  1000         0            0.0   24.1   24.4   \n",
       "232441      0.0  0.0      0.0  1000         0            0.0   24.1   24.4   \n",
       "232442      0.0  0.0      0.0  1000         0            0.0   24.1   24.4   \n",
       "\n",
       "        Comments  \n",
       "0            NaN  \n",
       "1            NaN  \n",
       "2            NaN  \n",
       "3            NaN  \n",
       "4            NaN  \n",
       "...          ...  \n",
       "232438       NaN  \n",
       "232439       NaN  \n",
       "232440       NaN  \n",
       "232441       NaN  \n",
       "232442       NaN  \n",
       "\n",
       "[232443 rows x 19 columns]>"
      ]
     },
     "execution_count": 6,
     "metadata": {},
     "output_type": "execute_result"
    }
   ],
   "source": [
    "# A general description of the dataset.\n",
    "df.describe"
   ]
  },
  {
   "cell_type": "code",
   "execution_count": 7,
   "id": "dfba35ec",
   "metadata": {},
   "outputs": [
    {
     "data": {
      "text/plain": [
       "Timestamp             0\n",
       "GHI                   0\n",
       "DNI                   0\n",
       "DHI                   0\n",
       "ModA                  0\n",
       "ModB                  0\n",
       "Tamb                  0\n",
       "RH                    0\n",
       "WS                    0\n",
       "WSgust                0\n",
       "WSstdev               0\n",
       "WD                    0\n",
       "WDstdev               0\n",
       "BP                    0\n",
       "Cleaning              0\n",
       "Precipitation         0\n",
       "TModA                 0\n",
       "TModB                 0\n",
       "Comments         232443\n",
       "dtype: int64"
      ]
     },
     "execution_count": 7,
     "metadata": {},
     "output_type": "execute_result"
    }
   ],
   "source": [
    "# look for missing values.\n",
    "df.isna().sum()\n",
    "#no missing values"
   ]
  },
  {
   "cell_type": "code",
   "execution_count": 8,
   "id": "5f312df1",
   "metadata": {},
   "outputs": [
    {
     "name": "stdout",
     "output_type": "stream",
     "text": [
      "Outliers per column:\n",
      "GHI       0\n",
      "DNI       0\n",
      "DHI       0\n",
      "ModA      0\n",
      "ModB      0\n",
      "WS        0\n",
      "WSgust    0\n",
      "dtype: int64\n"
     ]
    }
   ],
   "source": [
    "# Columns to check for outliers\n",
    "columns_to_check = ['GHI', 'DNI', 'DHI', 'ModA', 'ModB', 'WS', 'WSgust']\n",
    "\n",
    "# Compute Z-scores\n",
    "z_scores = df[columns_to_check].apply(zscore)\n",
    "\n",
    "# Flag rows with any |Z| > 3 as outliers\n",
    "outliers = (np.abs(z_scores) > 3)\n",
    "\n",
    "# Print count of outliers per column\n",
    "print(\"Outliers per column:\")\n",
    "print(outliers.sum())\n",
    "\n",
    "# Remove rows with any outlier\n",
    "df_clean = df[~outliers.any(axis=1)].copy()\n",
    "\n"
   ]
  },
  {
   "cell_type": "code",
   "execution_count": 9,
   "id": "92e35028",
   "metadata": {},
   "outputs": [
    {
     "name": "stdout",
     "output_type": "stream",
     "text": [
      "Original shape: (232443, 19)\n",
      "Cleaned shape: (232443, 19)\n",
      "Number of rows removed: 0\n"
     ]
    }
   ],
   "source": [
    "print(\"Original shape:\", df.shape)\n",
    "print(\"Cleaned shape:\", df_clean.shape)\n",
    "print(\"Number of rows removed:\", df.shape[0] - df_clean.shape[0])"
   ]
  },
  {
   "cell_type": "code",
   "execution_count": 10,
   "id": "e1bc702c",
   "metadata": {},
   "outputs": [
    {
     "name": "stdout",
     "output_type": "stream",
     "text": [
      "Remaining outliers in cleaned data:\n",
      "GHI       0\n",
      "DNI       0\n",
      "DHI       0\n",
      "ModA      0\n",
      "ModB      0\n",
      "WS        0\n",
      "WSgust    0\n",
      "dtype: int64\n"
     ]
    }
   ],
   "source": [
    "z_clean = df_clean[columns_to_check].apply(zscore)\n",
    "print(\"Remaining outliers in cleaned data:\")\n",
    "print((np.abs(z_clean) > 3).sum())\n"
   ]
  },
  {
   "cell_type": "code",
   "execution_count": 11,
   "id": "9e66a1a9",
   "metadata": {},
   "outputs": [
    {
     "name": "stdout",
     "output_type": "stream",
     "text": [
      "Remaining outliers after iterative cleaning:\n",
      "GHI       0\n",
      "DNI       0\n",
      "DHI       0\n",
      "ModA      0\n",
      "ModB      0\n",
      "WS        0\n",
      "WSgust    0\n",
      "dtype: int64\n"
     ]
    }
   ],
   "source": [
    "def remove_outliers_zscore(df, columns, threshold=3):\n",
    "    z_scores = df[columns].apply(zscore)\n",
    "    return df[~(np.abs(z_scores) > threshold).any(axis=1)]\n",
    "\n",
    "# Repeat until no outliers remain\n",
    "prev_shape = df_clean.shape[0]\n",
    "while True:\n",
    "    df_clean = remove_outliers_zscore(df_clean, columns_to_check)\n",
    "    new_shape = df_clean.shape[0]\n",
    "    if prev_shape == new_shape:\n",
    "        break\n",
    "    prev_shape = new_shape\n",
    "\n",
    "# Final Z-score check\n",
    "z_final = df_clean[columns_to_check].apply(zscore)\n",
    "print(\"Remaining outliers after iterative cleaning:\")\n",
    "print((np.abs(z_final) > 3).sum())\n"
   ]
  },
  {
   "cell_type": "code",
   "execution_count": 12,
   "id": "a0d12cea",
   "metadata": {},
   "outputs": [
    {
     "name": "stdout",
     "output_type": "stream",
     "text": [
      "✅ Cleaned dataset saved to: data/togo-bumbuna_clean.csv\n"
     ]
    }
   ],
   "source": [
    "# Save cleaned data\n",
    "os.makedirs(\"data\", exist_ok=True)\n",
    "df_clean.to_csv(\"../data/togo-bumbuna_clean.csv\", index=False)\n",
    "\n",
    "print(\"✅ Cleaned dataset saved to: data/togo-bumbuna_clean.csv\")"
   ]
  }
 ],
 "metadata": {
  "kernelspec": {
   "display_name": "week-0",
   "language": "python",
   "name": "python3"
  },
  "language_info": {
   "codemirror_mode": {
    "name": "ipython",
    "version": 3
   },
   "file_extension": ".py",
   "mimetype": "text/x-python",
   "name": "python",
   "nbconvert_exporter": "python",
   "pygments_lexer": "ipython3",
   "version": "3.11.9"
  }
 },
 "nbformat": 4,
 "nbformat_minor": 5
}
